{
  "cells": [
    {
      "cell_type": "code",
      "execution_count": 36,
      "metadata": {
        "id": "XTBLxu4WUneQ"
      },
      "outputs": [],
      "source": [
        "import json\n",
        "\n",
        "data = [\n",
        "  {\n",
        "    \"incorrect\": \"8 ÷ 2(2+2) = 1\",\n",
        "    \"correct\": \"16\",\n",
        "    \"explanation\": \"PEMDAS states that division and multiplication have equal precedence. Left to right: 8 ÷ 2 × 4 = 4 × 4 = 16.\"\n",
        "  },\n",
        "   {\n",
        "    \"incorrect\": \"8 ÷ 2*(2+2) = 1\",\n",
        "    \"correct\": \"16\",\n",
        "    \"explanation\": \"PEMDAS states that division and multiplication have equal precedence. Left to right: 8 ÷ 2 × 4 = 4 × 4 = 16.\"\n",
        "  },\n",
        "   {\n",
        "    \"incorrect\": \"8 / 2(2+2) = 1\",\n",
        "    \"correct\": \"16\",\n",
        "    \"explanation\": \"PEMDAS states that division and multiplication have equal precedence. Left to right: 8 ÷ 2 × 4 = 4 × 4 = 16.\"\n",
        "  },\n",
        "   {\n",
        "    \"incorrect\": \"8 / 2*(2+2) = 1\",\n",
        "    \"correct\": \"16\",\n",
        "    \"explanation\": \"PEMDAS states that division and multiplication have equal precedence. Left to right: 8 ÷ 2 × 4 = 4 × 4 = 16.\"\n",
        "  },\n",
        "  {\n",
        "    \"incorrect\": \"1 + 1 × 0 = 0\",\n",
        "    \"correct\": \"1\",\n",
        "    \"explanation\": \"Multiplication comes before addition: 1 × 0 = 0, then 1 + 0 = 1.\"\n",
        "  },\n",
        "  {\n",
        "    \"incorrect\": \"6 ÷ 2(3) = 1\",\n",
        "    \"correct\": \"9\",\n",
        "    \"explanation\": \"Following PEMDAS: 6 ÷ 2 × 3 = 3 × 3 = 9.\"\n",
        "  },\n",
        "  {\n",
        "    \"incorrect\": \"6 ÷ 2*(3) = 1\",\n",
        "    \"correct\": \"9\",\n",
        "    \"explanation\": \"Following PEMDAS: 6 ÷ 2 × 3 = 3 × 3 = 9.\"\n",
        "  },\n",
        "  {\n",
        "    \"incorrect\": \"50 - 5 × 10 = 450\",\n",
        "    \"correct\": \"0\",\n",
        "    \"explanation\": \"Multiplication first: 5 × 10 = 50, then 50 - 50 = 0.\"\n",
        "  },\n",
        "  {\n",
        "    \"incorrect\": \"100 ÷ 5 × 2 = 5\",\n",
        "    \"correct\": \"40\",\n",
        "    \"explanation\": \"Division and multiplication are equal precedence; solve left to right: 100 ÷ 5 = 20, then 20 × 2 = 40.\"\n",
        "  },\n",
        "  {\n",
        "    \"incorrect\": \"7 + 3 × 0 = 7 + 3 = 10\",\n",
        "    \"correct\": \"7\",\n",
        "    \"explanation\": \"Multiplication first: 3 × 0 = 0, then 7 + 0 = 7.\"\n",
        "  },\n",
        "  {\n",
        "    \"incorrect\": \"12 ÷ 4 + 2 = 2\",\n",
        "    \"correct\": \"5\",\n",
        "    \"explanation\": \"Division first: 12 ÷ 4 = 3, then 3 + 2 = 5.\"\n",
        "  },\n",
        "  {\n",
        "    \"incorrect\": \"15 - 3 × 4 = 48\",\n",
        "    \"correct\": \"3\",\n",
        "    \"explanation\": \"Multiplication first: 3 × 4 = 12, then 15 - 12 = 3.\"\n",
        "  },\n",
        "  {\n",
        "    \"incorrect\": \"5 + 5 × 5 = 50\",\n",
        "    \"correct\": \"30\",\n",
        "    \"explanation\": \"Multiplication first: 5 × 5 = 25, then 5 + 25 = 30.\"\n",
        "  },\n",
        "  {\n",
        "    \"incorrect\": \"10 ÷ 2 × 5 = 1\",\n",
        "    \"correct\": \"25\",\n",
        "    \"explanation\": \"Left to right: 10 ÷ 2 = 5, then 5 × 5 = 25.\"\n",
        "  },\n",
        "  {\n",
        "    \"incorrect\": \"2*(5+5) ÷ 2 = 2\",\n",
        "    \"correct\": \"10\",\n",
        "    \"explanation\": \"Parentheses first: 5 + 5 = 10, then 2 × 10 = 20, finally 20 ÷ 2 = 10.\"\n",
        "  },\n",
        "   {\n",
        "    \"incorrect\": \"2*(5+5) ÷ 2 = 2\",\n",
        "    \"correct\": \"10\",\n",
        "    \"explanation\": \"Parentheses first: 5 + 5 = 10, then 2 × 10 = 20, finally 20 ÷ 2 = 10.\"\n",
        "  },\n",
        "  {\n",
        "    \"incorrect\": \"18 ÷ 3 × 2 = 3\",\n",
        "    \"correct\": \"12\",\n",
        "    \"explanation\": \"Division and multiplication have equal precedence: 18 ÷ 3 = 6, then 6 × 2 = 12.\"\n",
        "  },\n",
        "  {\n",
        "    \"incorrect\": \"3 + 3 × 3 + 3 = 21\",\n",
        "    \"correct\": \"15\",\n",
        "    \"explanation\": \"Multiplication first: 3 × 3 = 9, then 3 + 9 + 3 = 15.\"\n",
        "  },\n",
        "  {\n",
        "    \"incorrect\": \"100 ÷ 10 × 10 = 1\",\n",
        "    \"correct\": \"100\",\n",
        "    \"explanation\": \"Left to right: 100 ÷ 10 = 10, then 10 × 10 = 100.\"\n",
        "  },\n",
        "  {\n",
        "    \"incorrect\": \"(6 + 4) ÷ 2 = 10\",\n",
        "    \"correct\": \"5\",\n",
        "    \"explanation\": \"Parentheses first: 6 + 4 = 10, then 10 ÷ 2 = 5.\"\n",
        "  },\n",
        "  {\n",
        "    \"incorrect\": \"9 - 3 ÷ 3 = 2\",\n",
        "    \"correct\": \"8\",\n",
        "    \"explanation\": \"Division first: 3 ÷ 3 = 1, then 9 - 1 = 8.\"\n",
        "  },\n",
        "  {\n",
        "    \"incorrect\": \"14 - 2(3) = 36\",\n",
        "    \"correct\": \"8\",\n",
        "    \"explanation\": \"Multiplication first: 2 × 3 = 6, then 14 - 6 = 8.\"\n",
        "  },\n",
        "  {\n",
        "    \"incorrect\": \"25 ÷ 5 × 2 = 5\",\n",
        "    \"correct\": \"10\",\n",
        "    \"explanation\": \"Left to right: 25 ÷ 5 = 5, then 5 × 2 = 10.\"\n",
        "  },\n",
        "  {\n",
        "    \"incorrect\": \"4(2+3) = 4 × 2 + 3\",\n",
        "    \"correct\": \"20\",\n",
        "    \"explanation\": \"Parentheses first: 2 + 3 = 5, then 4 × 5 = 20.\"\n",
        "  }\n",
        "]\n",
        "\n",
        "\n",
        "with open(\"math_meme_correction.json\", \"w\") as f:\n",
        "    json.dump(data, f, indent=4)\n",
        "\n"
      ]
    },
    {
      "cell_type": "code",
      "execution_count": 2,
      "metadata": {
        "colab": {
          "base_uri": "https://localhost:8080/"
        },
        "id": "EXmhrSt5UwIP",
        "outputId": "7d29648b-c5f9-46ce-a721-68c15c5c109d"
      },
      "outputs": [
        {
          "name": "stdout",
          "output_type": "stream",
          "text": [
            "\u001b[2K     \u001b[90m━━━━━━━━━━━━━━━━━━━━━━━━━━━━━━━━━━━━━━━━\u001b[0m \u001b[32m59.0/59.0 kB\u001b[0m \u001b[31m4.5 MB/s\u001b[0m eta \u001b[36m0:00:00\u001b[0m\n",
            "\u001b[2K   \u001b[90m━━━━━━━━━━━━━━━━━━━━━━━━━━━━━━━━━━━━━━━━\u001b[0m \u001b[32m195.6/195.6 kB\u001b[0m \u001b[31m16.5 MB/s\u001b[0m eta \u001b[36m0:00:00\u001b[0m\n",
            "\u001b[2K   \u001b[90m━━━━━━━━━━━━━━━━━━━━━━━━━━━━━━━━━━━━━━━━\u001b[0m \u001b[32m487.4/487.4 kB\u001b[0m \u001b[31m36.8 MB/s\u001b[0m eta \u001b[36m0:00:00\u001b[0m\n",
            "\u001b[2K   \u001b[90m━━━━━━━━━━━━━━━━━━━━━━━━━━━━━━━━━━━━━━━━\u001b[0m \u001b[32m162.1/162.1 kB\u001b[0m \u001b[31m15.6 MB/s\u001b[0m eta \u001b[36m0:00:00\u001b[0m\n",
            "\u001b[2K   \u001b[90m━━━━━━━━━━━━━━━━━━━━━━━━━━━━━━━━━━━━━━━━\u001b[0m \u001b[32m363.4/363.4 MB\u001b[0m \u001b[31m3.3 MB/s\u001b[0m eta \u001b[36m0:00:00\u001b[0m\n",
            "\u001b[2K   \u001b[90m━━━━━━━━━━━━━━━━━━━━━━━━━━━━━━━━━━━━━━━━\u001b[0m \u001b[32m13.8/13.8 MB\u001b[0m \u001b[31m112.7 MB/s\u001b[0m eta \u001b[36m0:00:00\u001b[0m\n",
            "\u001b[2K   \u001b[90m━━━━━━━━━━━━━━━━━━━━━━━━━━━━━━━━━━━━━━━━\u001b[0m \u001b[32m24.6/24.6 MB\u001b[0m \u001b[31m89.1 MB/s\u001b[0m eta \u001b[36m0:00:00\u001b[0m\n",
            "\u001b[2K   \u001b[90m━━━━━━━━━━━━━━━━━━━━━━━━━━━━━━━━━━━━━━━━\u001b[0m \u001b[32m883.7/883.7 kB\u001b[0m \u001b[31m51.8 MB/s\u001b[0m eta \u001b[36m0:00:00\u001b[0m\n",
            "\u001b[2K   \u001b[90m━━━━━━━━━━━━━━━━━━━━━━━━━━━━━━━━━━━━━━━━\u001b[0m \u001b[32m664.8/664.8 MB\u001b[0m \u001b[31m2.5 MB/s\u001b[0m eta \u001b[36m0:00:00\u001b[0m\n",
            "\u001b[2K   \u001b[90m━━━━━━━━━━━━━━━━━━━━━━━━━━━━━━━━━━━━━━━━\u001b[0m \u001b[32m211.5/211.5 MB\u001b[0m \u001b[31m5.7 MB/s\u001b[0m eta \u001b[36m0:00:00\u001b[0m\n",
            "\u001b[2K   \u001b[90m━━━━━━━━━━━━━━━━━━━━━━━━━━━━━━━━━━━━━━━━\u001b[0m \u001b[32m56.3/56.3 MB\u001b[0m \u001b[31m13.7 MB/s\u001b[0m eta \u001b[36m0:00:00\u001b[0m\n",
            "\u001b[2K   \u001b[90m━━━━━━━━━━━━━━━━━━━━━━━━━━━━━━━━━━━━━━━━\u001b[0m \u001b[32m127.9/127.9 MB\u001b[0m \u001b[31m6.6 MB/s\u001b[0m eta \u001b[36m0:00:00\u001b[0m\n",
            "\u001b[2K   \u001b[90m━━━━━━━━━━━━━━━━━━━━━━━━━━━━━━━━━━━━━━━━\u001b[0m \u001b[32m207.5/207.5 MB\u001b[0m \u001b[31m7.1 MB/s\u001b[0m eta \u001b[36m0:00:00\u001b[0m\n",
            "\u001b[2K   \u001b[90m━━━━━━━━━━━━━━━━━━━━━━━━━━━━━━━━━━━━━━━━\u001b[0m \u001b[32m21.1/21.1 MB\u001b[0m \u001b[31m37.1 MB/s\u001b[0m eta \u001b[36m0:00:00\u001b[0m\n",
            "\u001b[2K   \u001b[90m━━━━━━━━━━━━━━━━━━━━━━━━━━━━━━━━━━━━━━━━\u001b[0m \u001b[32m318.9/318.9 kB\u001b[0m \u001b[31m20.3 MB/s\u001b[0m eta \u001b[36m0:00:00\u001b[0m\n",
            "\u001b[2K   \u001b[90m━━━━━━━━━━━━━━━━━━━━━━━━━━━━━━━━━━━━━━━━\u001b[0m \u001b[32m128.9/128.9 kB\u001b[0m \u001b[31m5.9 MB/s\u001b[0m eta \u001b[36m0:00:00\u001b[0m\n",
            "\u001b[2K   \u001b[90m━━━━━━━━━━━━━━━━━━━━━━━━━━━━━━━━━━━━━━━━\u001b[0m \u001b[32m43.4/43.4 MB\u001b[0m \u001b[31m10.5 MB/s\u001b[0m eta \u001b[36m0:00:00\u001b[0m\n",
            "\u001b[2K   \u001b[90m━━━━━━━━━━━━━━━━━━━━━━━━━━━━━━━━━━━━━━━━\u001b[0m \u001b[32m76.1/76.1 MB\u001b[0m \u001b[31m11.0 MB/s\u001b[0m eta \u001b[36m0:00:00\u001b[0m\n",
            "\u001b[2K   \u001b[90m━━━━━━━━━━━━━━━━━━━━━━━━━━━━━━━━━━━━━━━━\u001b[0m \u001b[32m3.6/3.6 MB\u001b[0m \u001b[31m95.9 MB/s\u001b[0m eta \u001b[36m0:00:00\u001b[0m\n",
            "\u001b[2K   \u001b[90m━━━━━━━━━━━━━━━━━━━━━━━━━━━━━━━━━━━━━━━━\u001b[0m \u001b[32m123.7/123.7 kB\u001b[0m \u001b[31m10.1 MB/s\u001b[0m eta \u001b[36m0:00:00\u001b[0m\n",
            "\u001b[2K   \u001b[90m━━━━━━━━━━━━━━━━━━━━━━━━━━━━━━━━━━━━━━━━\u001b[0m \u001b[32m116.3/116.3 kB\u001b[0m \u001b[31m10.0 MB/s\u001b[0m eta \u001b[36m0:00:00\u001b[0m\n",
            "\u001b[2K   \u001b[90m━━━━━━━━━━━━━━━━━━━━━━━━━━━━━━━━━━━━━━━━\u001b[0m \u001b[32m143.5/143.5 kB\u001b[0m \u001b[31m13.1 MB/s\u001b[0m eta \u001b[36m0:00:00\u001b[0m\n",
            "\u001b[2K   \u001b[90m━━━━━━━━━━━━━━━━━━━━━━━━━━━━━━━━━━━━━━━━\u001b[0m \u001b[32m194.8/194.8 kB\u001b[0m \u001b[31m16.3 MB/s\u001b[0m eta \u001b[36m0:00:00\u001b[0m\n",
            "\u001b[?25h\u001b[31mERROR: pip's dependency resolver does not currently take into account all the packages that are installed. This behaviour is the source of the following dependency conflicts.\n",
            "grpcio-status 1.62.3 requires protobuf>=4.21.6, but you have protobuf 3.20.3 which is incompatible.\n",
            "tensorflow-metadata 1.16.1 requires protobuf<6.0.0dev,>=4.25.2; python_version >= \"3.11\", but you have protobuf 3.20.3 which is incompatible.\u001b[0m\u001b[31m\n",
            "\u001b[0m"
          ]
        }
      ],
      "source": [
        "!pip install -q unsloth\n",
        "!pip install -q bitsandbytes transformers accelerate peft trl datasets huggingface_hub\n"
      ]
    },
    {
      "cell_type": "markdown",
      "metadata": {},
      "source": [
        "https://huggingface.co/security-checkup?next=%2Fsettings%2Ftokens"
      ]
    },
    {
      "cell_type": "code",
      "execution_count": null,
      "metadata": {
        "id": "3Evkgo-7U5nT"
      },
      "outputs": [],
      "source": [
        "import os\n",
        "os.environ[\"HF_TOKEN\"] =# simply paste you hugging face token here\n",
        "\n",
        "\n"
      ]
    },
    {
      "cell_type": "code",
      "execution_count": 37,
      "metadata": {
        "colab": {
          "base_uri": "https://localhost:8080/"
        },
        "id": "IeH5jPlWU7pU",
        "outputId": "9f7fe27f-221a-4385-8006-f197cac53399"
      },
      "outputs": [
        {
          "name": "stdout",
          "output_type": "stream",
          "text": [
            "{'type': 'user', 'id': '67af0ad38dbc394ee67a492b', 'name': 'hasanKalyar1234', 'fullname': 'sohaib', 'isPro': False, 'avatarUrl': 'https://cdn-avatars.huggingface.co/v1/production/uploads/no-auth/E_RWguYXdci-q-Qf71UO5.png', 'orgs': [], 'auth': {'type': 'access_token', 'accessToken': {'displayName': 'deepseektoken', 'role': 'fineGrained', 'createdAt': '2025-03-17T16:59:32.517Z', 'fineGrained': {'canReadGatedRepos': True, 'global': ['inference.serverless.write', 'discussion.write', 'post.write'], 'scoped': [{'entity': {'_id': '67af0ad38dbc394ee67a492b', 'type': 'user', 'name': 'hasanKalyar1234'}, 'permissions': ['repo.content.read', 'repo.write', 'inference.endpoints.infer.write', 'inference.endpoints.write', 'user.webhooks.read', 'user.webhooks.write', 'collection.read', 'collection.write', 'discussion.write']}]}}}}\n"
          ]
        }
      ],
      "source": [
        "from huggingface_hub import whoami\n",
        "print(whoami())"
      ]
    },
    {
      "cell_type": "code",
      "execution_count": null,
      "metadata": {
        "colab": {
          "base_uri": "https://localhost:8080/",
          "height": 171,
          "referenced_widgets": [
            "6f302b65453e4e849dc97f712c7d8f60",
            "ac888b3e15724b7da547fbf5173efd3d",
            "53df22a8520f4578aea9b43313800b3b",
            "e8961db18acd4fcf80ca854fefd9b76a",
            "4ba0e4d003e84366b4e25acdbe8b3c6f",
            "82005d54b50b46439a53e3dac4fe6344",
            "aa1b27d08e1248e3b1b6c7a464b4abef",
            "746c657a0f4342bb9e4acb8fedb15b7c",
            "a8755cd2f4014c4db7da94ee417abf84",
            "4dec033bd25e4bb7bb2e81f525080d78",
            "010a5c0d3959409d8fa25b79b2719bf0"
          ]
        },
        "id": "zN5_-_NzU9NQ",
        "outputId": "37ce4ad6-5377-4582-acbc-2988c0d66a17"
      },
      "outputs": [
        {
          "name": "stdout",
          "output_type": "stream",
          "text": [
            "==((====))==  Unsloth 2025.3.15: Fast Llama patching. Transformers: 4.48.3.\n",
            "   \\\\   /|    Tesla T4. Num GPUs = 1. Max memory: 14.741 GB. Platform: Linux.\n",
            "O^O/ \\_/ \\    Torch: 2.6.0+cu124. CUDA: 7.5. CUDA Toolkit: 12.4. Triton: 3.2.0\n",
            "\\        /    Bfloat16 = FALSE. FA [Xformers = 0.0.29.post3. FA2 = False]\n",
            " \"-____-\"     Free license: http://github.com/unslothai/unsloth\n",
            "Unsloth: Fast downloading is enabled - ignore downloading bars which are red colored!\n"
          ]
        },
        {
          "data": {
            "application/vnd.jupyter.widget-view+json": {
              "model_id": "6f302b65453e4e849dc97f712c7d8f60",
              "version_major": 2,
              "version_minor": 0
            },
            "text/plain": [
              "Loading checkpoint shards:   0%|          | 0/2 [00:00<?, ?it/s]"
            ]
          },
          "metadata": {},
          "output_type": "display_data"
        },
        {
          "name": "stdout",
          "output_type": "stream",
          "text": [
            "deepseek-ai/deepseek-math-7b-instruct does not have a padding token! Will use pad_token = <|PAD_TOKEN|>.\n"
          ]
        }
      ],
      "source": [
        "from unsloth import FastLanguageModel\n",
        "import torch\n",
        "\n",
        "model_id = \"deepseek-ai/deepseek-math-7b-instruct\"\n",
        "\n",
        "model, tokenizer = FastLanguageModel.from_pretrained(\n",
        "    model_id,\n",
        "    max_seq_length=2048, \n",
        "    dtype=torch.float16,\n",
        "    load_in_4bit=True \n",
        ")\n",
        "\n",
        "tokenizer.pad_token = tokenizer.eos_token\n"
      ]
    },
    {
      "cell_type": "markdown",
      "metadata": {},
      "source": [
        "LoRA\n"
      ]
    },
    {
      "cell_type": "code",
      "execution_count": null,
      "metadata": {
        "id": "FCzxD4baU-xl"
      },
      "outputs": [],
      "source": [
        "from transformers import AutoTokenizer\n",
        "\n",
        "\n",
        "model = FastLanguageModel.get_peft_model(\n",
        "    model,\n",
        "    r = 64,\n",
        "    target_modules = [\"q_proj\", \"k_proj\", \"v_proj\", \"o_proj\",\n",
        "                      \"gate_proj\", \"up_proj\", \"down_proj\",],\n",
        "    lora_alpha = 32,\n",
        "    lora_dropout = 0.05,\n",
        "    bias = \"none\",   \n",
        "    use_gradient_checkpointing = \"unsloth\",\n",
        "    random_state = 3977,\n",
        "    use_rslora = False,  \n",
        "    loftq_config = None, \n",
        ")"
      ]
    },
    {
      "cell_type": "code",
      "execution_count": null,
      "metadata": {
        "id": "C0F1E-fFVAOk"
      },
      "outputs": [],
      "source": [
        "from transformers import TrainingArguments\n",
        "\n",
        "training_args = TrainingArguments(\n",
        "    output_dir=\"./deepseek-math-fine\",\n",
        "    per_device_train_batch_size=1,  \n",
        "    gradient_accumulation_steps=4,  \n",
        "    optim=\"adamw_8bit\", \n",
        "    save_steps=500,\n",
        "    eval_strategy=\"steps\", \n",
        "    eval_steps=500,\n",
        "    logging_steps=100,\n",
        "    learning_rate=2e-4,\n",
        "    weight_decay=0.01,\n",
        "    fp16=True,  \n",
        "    num_train_epochs=7,\n",
        "    push_to_hub=False,\n",
        "    save_total_limit=2, \n",
        "    report_to=\"none\", \n",
        "    run_name=\"deepseek-math-finetune\"\n",
        ")\n"
      ]
    },
    {
      "cell_type": "code",
      "execution_count": null,
      "metadata": {
        "colab": {
          "base_uri": "https://localhost:8080/"
        },
        "id": "YlMqbyMQVB6c",
        "outputId": "ac843528-0141-4ac9-da01-9f6c8ebeadd9"
      },
      "outputs": [
        {
          "name": "stdout",
          "output_type": "stream",
          "text": [
            "DatasetDict({\n",
            "    train: Dataset({\n",
            "        features: ['incorrect', 'correct', 'explanation', 'text', 'input_ids', 'attention_mask', 'labels'],\n",
            "        num_rows: 24\n",
            "    })\n",
            "})\n"
          ]
        }
      ],
      "source": [
        "from datasets import load_dataset\n",
        "\n",
        "dataset = load_dataset(\"json\", data_files=\"math_meme_correction.json\")\n",
        "\n",
        "EOS_TOKEN = tokenizer.eos_token \n",
        "\n",
        "def formatting_prompts_func(examples):\n",
        "    texts = [inc + \" -> \" + cor + EOS_TOKEN for inc, cor in zip(examples[\"incorrect\"], examples[\"correct\"])]\n",
        "    return {\"text\": texts}\n",
        "\n",
        "dataset = dataset.map(formatting_prompts_func, batched=True)\n",
        "\n",
        "def tokenize_function(examples):\n",
        "    model_inputs = tokenizer(examples[\"text\"], padding=\"max_length\", truncation=True, max_length=2048)\n",
        "    model_inputs[\"labels\"] = model_inputs[\"input_ids\"].copy()  \n",
        "    return model_inputs\n",
        "\n",
        "tokenized_datasets = dataset.map(tokenize_function, batched=True)\n",
        "\n",
        "print(tokenized_datasets)\n"
      ]
    },
    {
      "cell_type": "code",
      "execution_count": null,
      "metadata": {
        "colab": {
          "base_uri": "https://localhost:8080/",
          "height": 269
        },
        "id": "-v-Dx2XpVEpI",
        "outputId": "f50e1c0d-c7d5-43d1-e9e3-c5b6dc4900d1"
      },
      "outputs": [
        {
          "name": "stderr",
          "output_type": "stream",
          "text": [
            "<ipython-input-46-ba79fe6bb3b1>:3: FutureWarning: `tokenizer` is deprecated and will be removed in version 5.0.0 for `Trainer.__init__`. Use `processing_class` instead.\n",
            "  trainer = Trainer(\n",
            "==((====))==  Unsloth - 2x faster free finetuning | Num GPUs used = 1\n",
            "   \\\\   /|    Num examples = 24 | Num Epochs = 7 | Total steps = 42\n",
            "O^O/ \\_/ \\    Batch size per device = 1 | Gradient accumulation steps = 4\n",
            "\\        /    Data Parallel GPUs = 1 | Total batch size (1 x 4 x 1) = 4\n",
            " \"-____-\"     Trainable parameters = 149,913,600/7,000,000,000 (2.14% trained)\n"
          ]
        },
        {
          "data": {
            "text/html": [
              "\n",
              "    <div>\n",
              "      \n",
              "      <progress value='42' max='42' style='width:300px; height:20px; vertical-align: middle;'></progress>\n",
              "      [42/42 14:28, Epoch 7/7]\n",
              "    </div>\n",
              "    <table border=\"1\" class=\"dataframe\">\n",
              "  <thead>\n",
              " <tr style=\"text-align: left;\">\n",
              "      <th>Step</th>\n",
              "      <th>Training Loss</th>\n",
              "      <th>Validation Loss</th>\n",
              "    </tr>\n",
              "  </thead>\n",
              "  <tbody>\n",
              "  </tbody>\n",
              "</table><p>"
            ],
            "text/plain": [
              "<IPython.core.display.HTML object>"
            ]
          },
          "metadata": {},
          "output_type": "display_data"
        },
        {
          "data": {
            "text/plain": [
              "TrainOutput(global_step=42, training_loss=7.515920729864211, metrics={'train_runtime': 889.9765, 'train_samples_per_second': 0.189, 'train_steps_per_second': 0.047, 'total_flos': 1.3709262207320064e+16, 'train_loss': 7.515920729864211, 'epoch': 7.0})"
            ]
          },
          "execution_count": 46,
          "metadata": {},
          "output_type": "execute_result"
        }
      ],
      "source": [
        "from transformers import Trainer\n",
        "\n",
        "trainer = Trainer(\n",
        "    model=model,\n",
        "    args=training_args,\n",
        "    train_dataset=tokenized_datasets[\"train\"],\n",
        "    eval_dataset=tokenized_datasets[\"train\"],  \n",
        "    tokenizer=tokenizer, \n",
        ")\n",
        "\n",
        "trainer.train()\n"
      ]
    },
    {
      "cell_type": "code",
      "execution_count": null,
      "metadata": {
        "colab": {
          "base_uri": "https://localhost:8080/"
        },
        "id": "m4Y9eEyGVGYc",
        "outputId": "6e234edd-c3b8-4f9a-8d56-0133cf0ac6ed"
      },
      "outputs": [
        {
          "name": "stdout",
          "output_type": "stream",
          "text": [
            "Incorrect: 2 + 2 = 5\n",
            "Corrected: 2 + 2 = 5 -> 4\n",
            "\n",
            "Incorrect: The square root of 25 is 6\n",
            "Corrected: The square root of 25 is 6 -> 5\n",
            "\n",
            "Incorrect: 7 * 8 = 54\n",
            "Corrected: 7 * 8 = 54 -> 56\n",
            "\n",
            "Incorrect: The derivative of x^2 is x\n",
            "Corrected: The derivative of x^2 is x -> 2x.\n",
            "\n"
          ]
        }
      ],
      "source": [
        "import torch\n",
        "\n",
        "def test_model(model, tokenizer, test_cases):\n",
        "    model.eval() \n",
        "    results = []\n",
        "\n",
        "    for test in test_cases:\n",
        "        input_text = test + \" ->\"\n",
        "        inputs = tokenizer(input_text, return_tensors=\"pt\").to(\"cuda\")  \n",
        "\n",
        "        with torch.no_grad():\n",
        "            outputs = model.generate(**inputs, max_length=100)\n",
        "\n",
        "        corrected_text = tokenizer.decode(outputs[0], skip_special_tokens=True)\n",
        "        results.append((test, corrected_text))\n",
        "\n",
        "    return results\n",
        "\n",
        "test_cases = [\n",
        "    \"2 + 2 = 5\",\n",
        "    \"The square root of 25 is 6\",\n",
        "    \"7 * 8 = 54\",\n",
        "    \"The derivative of x^2 is x\",\n",
        "]\n",
        "\n",
        "results = test_model(model, tokenizer, test_cases)\n",
        "\n",
        "for incorrect, corrected in results:\n",
        "    print(f\"Incorrect: {incorrect}\")\n",
        "    print(f\"Corrected: {corrected}\\n\")\n"
      ]
    },
    {
      "cell_type": "code",
      "execution_count": null,
      "metadata": {
        "colab": {
          "base_uri": "https://localhost:8080/"
        },
        "id": "i8AlHW_GWiea",
        "outputId": "1899c35e-d9eb-4480-f30d-62ece208763b"
      },
      "outputs": [
        {
          "name": "stdout",
          "output_type": "stream",
          "text": [
            "Incorrect: 2 + 2 = 5\n",
            "Corrected: 4\n",
            "\n",
            "Incorrect: 6+8/2 = 7\n",
            "Corrected: 10\n",
            "\n",
            "Incorrect: 8/2*(2+2)=1\n",
            "Corrected: 16\n",
            "\n"
          ]
        }
      ],
      "source": [
        "import torch\n",
        "\n",
        "def test_model(model, tokenizer, test_cases):\n",
        "    model.eval()  \n",
        "    results = []\n",
        "\n",
        "    for test in test_cases:\n",
        "        input_text = test + \" ->\"\n",
        "        inputs = tokenizer(input_text, return_tensors=\"pt\").to(\"cuda\") \n",
        "\n",
        "        max_length = len(inputs[\"input_ids\"][0]) + 10\n",
        "\n",
        "        with torch.no_grad():\n",
        "            outputs = model.generate(\n",
        "                **inputs,\n",
        "                max_length=max_length,\n",
        "                eos_token_id=tokenizer.eos_token_id, \n",
        "                pad_token_id=tokenizer.pad_token_id\n",
        "            )\n",
        "\n",
        "        corrected_text = tokenizer.decode(outputs[0], skip_special_tokens=True)\n",
        "\n",
        "        if \"->\" in corrected_text:\n",
        "            corrected_text = corrected_text.split(\"->\", 1)[-1].strip()\n",
        "\n",
        "        corrected_text = corrected_text.split(\"->\")[0].strip()\n",
        "\n",
        "        results.append((test, corrected_text))\n",
        "\n",
        "    return results\n",
        "\n",
        "test_cases = [\n",
        "    \"2 + 2 = 5\",\n",
        "    \"6+8/2 = 7\",\n",
        "    \"8/2*(2+2)=1\",\n",
        "]\n",
        "\n",
        "results = test_model(model, tokenizer, test_cases)\n",
        "\n",
        "for incorrect, corrected in results:\n",
        "    print(f\"Incorrect: {incorrect}\")\n",
        "    print(f\"Corrected: {corrected}\\n\")\n"
      ]
    },
    {
      "cell_type": "markdown",
      "metadata": {
        "id": "UssUszAaVxkR"
      },
      "source": [
        "to save finetuned\n"
      ]
    },
    {
      "cell_type": "code",
      "execution_count": null,
      "metadata": {
        "id": "GvI6Zxw-Vmij"
      },
      "outputs": [],
      "source": [
        "!zip -r deepseek-math-fine.zip deepseek-math-fine\n"
      ]
    },
    {
      "cell_type": "code",
      "execution_count": null,
      "metadata": {
        "id": "n9-uhv2qd-5z"
      },
      "outputs": [],
      "source": [
        "from google.colab import files\n",
        "files.download(\"deepseek-math-fine.zip\")\n"
      ]
    },
    {
      "cell_type": "markdown",
      "metadata": {
        "id": "TXU34LueV6C1"
      },
      "source": [
        "Reusing"
      ]
    },
    {
      "cell_type": "code",
      "execution_count": null,
      "metadata": {
        "id": "n_woxOztWIH5"
      },
      "outputs": [],
      "source": [
        "from unsloth import FastLanguageModel\n",
        "import torch\n",
        "from transformers import AutoTokenizer\n",
        "\n",
        "model_name = \"deepseek-ai/deepseek-math-7b-instruct\"\n",
        "model, tokenizer = FastLanguageModel.from_pretrained(\n",
        "    model_name,\n",
        "    max_seq_length=2048,\n",
        "    dtype=torch.float16,\n",
        "    load_in_4bit=True\n",
        ")\n"
      ]
    },
    {
      "cell_type": "code",
      "execution_count": null,
      "metadata": {
        "id": "aFfblmrXWvqT"
      },
      "outputs": [],
      "source": [
        "!unzip deepseek-math-fine.zip\n"
      ]
    },
    {
      "cell_type": "code",
      "execution_count": null,
      "metadata": {
        "id": "QSyusbORVW4z"
      },
      "outputs": [],
      "source": [
        "from peft import PeftModel\n",
        "\n",
        "model = PeftModel.from_pretrained(model, \"deepseek-math-fine\")\n",
        "print(\"Fine-tuned model loaded successfully!\")\n"
      ]
    },
    {
      "cell_type": "markdown",
      "metadata": {
        "id": "RF2BEC4LWKzp"
      },
      "source": [
        "Testing on gradio"
      ]
    },
    {
      "cell_type": "code",
      "execution_count": 13,
      "metadata": {
        "colab": {
          "base_uri": "https://localhost:8080/"
        },
        "id": "dHPsS6gBWL85",
        "outputId": "b1006b77-f31a-4a1e-fbdf-bf0b5821816c"
      },
      "outputs": [
        {
          "name": "stdout",
          "output_type": "stream",
          "text": [
            "Collecting pyngrok\n",
            "  Downloading pyngrok-7.2.3-py3-none-any.whl.metadata (8.7 kB)\n",
            "Requirement already satisfied: PyYAML>=5.1 in /usr/local/lib/python3.11/dist-packages (from pyngrok) (6.0.2)\n",
            "Downloading pyngrok-7.2.3-py3-none-any.whl (23 kB)\n",
            "Installing collected packages: pyngrok\n",
            "Successfully installed pyngrok-7.2.3\n",
            "Collecting gradio\n",
            "  Downloading gradio-5.22.0-py3-none-any.whl.metadata (16 kB)\n",
            "Collecting aiofiles<24.0,>=22.0 (from gradio)\n",
            "  Downloading aiofiles-23.2.1-py3-none-any.whl.metadata (9.7 kB)\n",
            "Requirement already satisfied: anyio<5.0,>=3.0 in /usr/local/lib/python3.11/dist-packages (from gradio) (3.7.1)\n",
            "Collecting fastapi<1.0,>=0.115.2 (from gradio)\n",
            "  Downloading fastapi-0.115.11-py3-none-any.whl.metadata (27 kB)\n",
            "Collecting ffmpy (from gradio)\n",
            "  Downloading ffmpy-0.5.0-py3-none-any.whl.metadata (3.0 kB)\n",
            "Collecting gradio-client==1.8.0 (from gradio)\n",
            "  Downloading gradio_client-1.8.0-py3-none-any.whl.metadata (7.1 kB)\n",
            "Collecting groovy~=0.1 (from gradio)\n",
            "  Downloading groovy-0.1.2-py3-none-any.whl.metadata (6.1 kB)\n",
            "Requirement already satisfied: httpx>=0.24.1 in /usr/local/lib/python3.11/dist-packages (from gradio) (0.28.1)\n",
            "Requirement already satisfied: huggingface-hub>=0.28.1 in /usr/local/lib/python3.11/dist-packages (from gradio) (0.28.1)\n",
            "Requirement already satisfied: jinja2<4.0 in /usr/local/lib/python3.11/dist-packages (from gradio) (3.1.6)\n",
            "Requirement already satisfied: markupsafe<4.0,>=2.0 in /usr/local/lib/python3.11/dist-packages (from gradio) (3.0.2)\n",
            "Requirement already satisfied: numpy<3.0,>=1.0 in /usr/local/lib/python3.11/dist-packages (from gradio) (2.0.2)\n",
            "Requirement already satisfied: orjson~=3.0 in /usr/local/lib/python3.11/dist-packages (from gradio) (3.10.15)\n",
            "Requirement already satisfied: packaging in /usr/local/lib/python3.11/dist-packages (from gradio) (24.2)\n",
            "Requirement already satisfied: pandas<3.0,>=1.0 in /usr/local/lib/python3.11/dist-packages (from gradio) (2.2.2)\n",
            "Requirement already satisfied: pillow<12.0,>=8.0 in /usr/local/lib/python3.11/dist-packages (from gradio) (11.1.0)\n",
            "Requirement already satisfied: pydantic>=2.0 in /usr/local/lib/python3.11/dist-packages (from gradio) (2.10.6)\n",
            "Collecting pydub (from gradio)\n",
            "  Downloading pydub-0.25.1-py2.py3-none-any.whl.metadata (1.4 kB)\n",
            "Collecting python-multipart>=0.0.18 (from gradio)\n",
            "  Downloading python_multipart-0.0.20-py3-none-any.whl.metadata (1.8 kB)\n",
            "Requirement already satisfied: pyyaml<7.0,>=5.0 in /usr/local/lib/python3.11/dist-packages (from gradio) (6.0.2)\n",
            "Collecting ruff>=0.9.3 (from gradio)\n",
            "  Downloading ruff-0.11.0-py3-none-manylinux_2_17_x86_64.manylinux2014_x86_64.whl.metadata (25 kB)\n",
            "Collecting safehttpx<0.2.0,>=0.1.6 (from gradio)\n",
            "  Downloading safehttpx-0.1.6-py3-none-any.whl.metadata (4.2 kB)\n",
            "Collecting semantic-version~=2.0 (from gradio)\n",
            "  Downloading semantic_version-2.10.0-py2.py3-none-any.whl.metadata (9.7 kB)\n",
            "Collecting starlette<1.0,>=0.40.0 (from gradio)\n",
            "  Downloading starlette-0.46.1-py3-none-any.whl.metadata (6.2 kB)\n",
            "Collecting tomlkit<0.14.0,>=0.12.0 (from gradio)\n",
            "  Downloading tomlkit-0.13.2-py3-none-any.whl.metadata (2.7 kB)\n",
            "Requirement already satisfied: typer<1.0,>=0.12 in /usr/local/lib/python3.11/dist-packages (from gradio) (0.15.2)\n",
            "Requirement already satisfied: typing-extensions~=4.0 in /usr/local/lib/python3.11/dist-packages (from gradio) (4.12.2)\n",
            "Collecting uvicorn>=0.14.0 (from gradio)\n",
            "  Downloading uvicorn-0.34.0-py3-none-any.whl.metadata (6.5 kB)\n",
            "Requirement already satisfied: fsspec in /usr/local/lib/python3.11/dist-packages (from gradio-client==1.8.0->gradio) (2024.10.0)\n",
            "Requirement already satisfied: websockets<16.0,>=10.0 in /usr/local/lib/python3.11/dist-packages (from gradio-client==1.8.0->gradio) (14.2)\n",
            "Requirement already satisfied: idna>=2.8 in /usr/local/lib/python3.11/dist-packages (from anyio<5.0,>=3.0->gradio) (3.10)\n",
            "Requirement already satisfied: sniffio>=1.1 in /usr/local/lib/python3.11/dist-packages (from anyio<5.0,>=3.0->gradio) (1.3.1)\n",
            "Requirement already satisfied: certifi in /usr/local/lib/python3.11/dist-packages (from httpx>=0.24.1->gradio) (2025.1.31)\n",
            "Requirement already satisfied: httpcore==1.* in /usr/local/lib/python3.11/dist-packages (from httpx>=0.24.1->gradio) (1.0.7)\n",
            "Requirement already satisfied: h11<0.15,>=0.13 in /usr/local/lib/python3.11/dist-packages (from httpcore==1.*->httpx>=0.24.1->gradio) (0.14.0)\n",
            "Requirement already satisfied: filelock in /usr/local/lib/python3.11/dist-packages (from huggingface-hub>=0.28.1->gradio) (3.17.0)\n",
            "Requirement already satisfied: requests in /usr/local/lib/python3.11/dist-packages (from huggingface-hub>=0.28.1->gradio) (2.32.3)\n",
            "Requirement already satisfied: tqdm>=4.42.1 in /usr/local/lib/python3.11/dist-packages (from huggingface-hub>=0.28.1->gradio) (4.67.1)\n",
            "Requirement already satisfied: python-dateutil>=2.8.2 in /usr/local/lib/python3.11/dist-packages (from pandas<3.0,>=1.0->gradio) (2.8.2)\n",
            "Requirement already satisfied: pytz>=2020.1 in /usr/local/lib/python3.11/dist-packages (from pandas<3.0,>=1.0->gradio) (2025.1)\n",
            "Requirement already satisfied: tzdata>=2022.7 in /usr/local/lib/python3.11/dist-packages (from pandas<3.0,>=1.0->gradio) (2025.1)\n",
            "Requirement already satisfied: annotated-types>=0.6.0 in /usr/local/lib/python3.11/dist-packages (from pydantic>=2.0->gradio) (0.7.0)\n",
            "Requirement already satisfied: pydantic-core==2.27.2 in /usr/local/lib/python3.11/dist-packages (from pydantic>=2.0->gradio) (2.27.2)\n",
            "Requirement already satisfied: click>=8.0.0 in /usr/local/lib/python3.11/dist-packages (from typer<1.0,>=0.12->gradio) (8.1.8)\n",
            "Requirement already satisfied: shellingham>=1.3.0 in /usr/local/lib/python3.11/dist-packages (from typer<1.0,>=0.12->gradio) (1.5.4)\n",
            "Requirement already satisfied: rich>=10.11.0 in /usr/local/lib/python3.11/dist-packages (from typer<1.0,>=0.12->gradio) (13.9.4)\n",
            "Requirement already satisfied: six>=1.5 in /usr/local/lib/python3.11/dist-packages (from python-dateutil>=2.8.2->pandas<3.0,>=1.0->gradio) (1.17.0)\n",
            "Requirement already satisfied: markdown-it-py>=2.2.0 in /usr/local/lib/python3.11/dist-packages (from rich>=10.11.0->typer<1.0,>=0.12->gradio) (3.0.0)\n",
            "Requirement already satisfied: pygments<3.0.0,>=2.13.0 in /usr/local/lib/python3.11/dist-packages (from rich>=10.11.0->typer<1.0,>=0.12->gradio) (2.18.0)\n",
            "Requirement already satisfied: charset-normalizer<4,>=2 in /usr/local/lib/python3.11/dist-packages (from requests->huggingface-hub>=0.28.1->gradio) (3.4.1)\n",
            "Requirement already satisfied: urllib3<3,>=1.21.1 in /usr/local/lib/python3.11/dist-packages (from requests->huggingface-hub>=0.28.1->gradio) (2.3.0)\n",
            "Requirement already satisfied: mdurl~=0.1 in /usr/local/lib/python3.11/dist-packages (from markdown-it-py>=2.2.0->rich>=10.11.0->typer<1.0,>=0.12->gradio) (0.1.2)\n",
            "Downloading gradio-5.22.0-py3-none-any.whl (46.2 MB)\n",
            "\u001b[2K   \u001b[90m━━━━━━━━━━━━━━━━━━━━━━━━━━━━━━━━━━━━━━━━\u001b[0m \u001b[32m46.2/46.2 MB\u001b[0m \u001b[31m16.3 MB/s\u001b[0m eta \u001b[36m0:00:00\u001b[0m\n",
            "\u001b[?25hDownloading gradio_client-1.8.0-py3-none-any.whl (322 kB)\n",
            "\u001b[2K   \u001b[90m━━━━━━━━━━━━━━━━━━━━━━━━━━━━━━━━━━━━━━━━\u001b[0m \u001b[32m322.2/322.2 kB\u001b[0m \u001b[31m27.4 MB/s\u001b[0m eta \u001b[36m0:00:00\u001b[0m\n",
            "\u001b[?25hDownloading aiofiles-23.2.1-py3-none-any.whl (15 kB)\n",
            "Downloading fastapi-0.115.11-py3-none-any.whl (94 kB)\n",
            "\u001b[2K   \u001b[90m━━━━━━━━━━━━━━━━━━━━━━━━━━━━━━━━━━━━━━━━\u001b[0m \u001b[32m94.9/94.9 kB\u001b[0m \u001b[31m9.6 MB/s\u001b[0m eta \u001b[36m0:00:00\u001b[0m\n",
            "\u001b[?25hDownloading groovy-0.1.2-py3-none-any.whl (14 kB)\n",
            "Downloading python_multipart-0.0.20-py3-none-any.whl (24 kB)\n",
            "Downloading ruff-0.11.0-py3-none-manylinux_2_17_x86_64.manylinux2014_x86_64.whl (11.3 MB)\n",
            "\u001b[2K   \u001b[90m━━━━━━━━━━━━━━━━━━━━━━━━━━━━━━━━━━━━━━━━\u001b[0m \u001b[32m11.3/11.3 MB\u001b[0m \u001b[31m120.2 MB/s\u001b[0m eta \u001b[36m0:00:00\u001b[0m\n",
            "\u001b[?25hDownloading safehttpx-0.1.6-py3-none-any.whl (8.7 kB)\n",
            "Downloading semantic_version-2.10.0-py2.py3-none-any.whl (15 kB)\n",
            "Downloading starlette-0.46.1-py3-none-any.whl (71 kB)\n",
            "\u001b[2K   \u001b[90m━━━━━━━━━━━━━━━━━━━━━━━━━━━━━━━━━━━━━━━━\u001b[0m \u001b[32m72.0/72.0 kB\u001b[0m \u001b[31m7.3 MB/s\u001b[0m eta \u001b[36m0:00:00\u001b[0m\n",
            "\u001b[?25hDownloading tomlkit-0.13.2-py3-none-any.whl (37 kB)\n",
            "Downloading uvicorn-0.34.0-py3-none-any.whl (62 kB)\n",
            "\u001b[2K   \u001b[90m━━━━━━━━━━━━━━━━━━━━━━━━━━━━━━━━━━━━━━━━\u001b[0m \u001b[32m62.3/62.3 kB\u001b[0m \u001b[31m6.4 MB/s\u001b[0m eta \u001b[36m0:00:00\u001b[0m\n",
            "\u001b[?25hDownloading ffmpy-0.5.0-py3-none-any.whl (6.0 kB)\n",
            "Downloading pydub-0.25.1-py2.py3-none-any.whl (32 kB)\n",
            "Installing collected packages: pydub, uvicorn, tomlkit, semantic-version, ruff, python-multipart, groovy, ffmpy, aiofiles, starlette, safehttpx, gradio-client, fastapi, gradio\n",
            "Successfully installed aiofiles-23.2.1 fastapi-0.115.11 ffmpy-0.5.0 gradio-5.22.0 gradio-client-1.8.0 groovy-0.1.2 pydub-0.25.1 python-multipart-0.0.20 ruff-0.11.0 safehttpx-0.1.6 semantic-version-2.10.0 starlette-0.46.1 tomlkit-0.13.2 uvicorn-0.34.0\n"
          ]
        }
      ],
      "source": [
        "!pip install pyngrok\n",
        "!pip install gradio"
      ]
    },
    {
      "cell_type": "markdown",
      "metadata": {},
      "source": [
        "#Gradio"
      ]
    },
    {
      "cell_type": "code",
      "execution_count": null,
      "metadata": {
        "colab": {
          "base_uri": "https://localhost:8080/",
          "height": 646
        },
        "id": "-y8X6Kt0WXPC",
        "outputId": "0dfba961-0b79-4ec8-c1f7-701551c51aad"
      },
      "outputs": [
        {
          "name": "stdout",
          "output_type": "stream",
          "text": [
            "Running Gradio in a Colab notebook requires sharing enabled. Automatically setting `share=True` (you can turn this off by setting `share=False` in `launch()` explicitly).\n",
            "\n",
            "Colab notebook detected. To show errors in colab notebook, set debug=True in launch()\n",
            "* Running on public URL: https://26413d8483f44feb52.gradio.live\n",
            "\n",
            "This share link expires in 72 hours. For free permanent hosting and GPU upgrades, run `gradio deploy` from the terminal in the working directory to deploy to Hugging Face Spaces (https://huggingface.co/spaces)\n"
          ]
        },
        {
          "data": {
            "text/html": [
              "<div><iframe src=\"https://26413d8483f44feb52.gradio.live\" width=\"100%\" height=\"500\" allow=\"autoplay; camera; microphone; clipboard-read; clipboard-write;\" frameborder=\"0\" allowfullscreen></iframe></div>"
            ],
            "text/plain": [
              "<IPython.core.display.HTML object>"
            ]
          },
          "metadata": {},
          "output_type": "display_data"
        },
        {
          "data": {
            "text/plain": []
          },
          "execution_count": 49,
          "metadata": {},
          "output_type": "execute_result"
        }
      ],
      "source": [
        "import torch\n",
        "import gradio as gr\n",
        "from transformers import AutoTokenizer, AutoModelForCausalLM\n",
        "\n",
        "\n",
        "def test_model(model, tokenizer, test_cases):\n",
        "    model.eval()  \n",
        "    results = []\n",
        "\n",
        "    for test in test_cases:\n",
        "        input_text = test + \" ->\"\n",
        "        inputs = tokenizer(input_text, return_tensors=\"pt\").to(\"cuda\")  \n",
        "\n",
        "        max_length = len(inputs[\"input_ids\"][0]) + 10\n",
        "\n",
        "        with torch.no_grad():\n",
        "            outputs = model.generate(\n",
        "                **inputs,\n",
        "                max_length=max_length,\n",
        "                eos_token_id=tokenizer.eos_token_id, \n",
        "                pad_token_id=tokenizer.pad_token_id\n",
        "            )\n",
        "\n",
        "        corrected_text = tokenizer.decode(outputs[0], skip_special_tokens=True)\n",
        "\n",
        "        if \"->\" in corrected_text:\n",
        "            corrected_text = corrected_text.split(\"->\", 1)[-1].strip()\n",
        "\n",
        "        corrected_text = corrected_text.split(\"->\")[0].strip()\n",
        "\n",
        "        results.append((test, corrected_text))\n",
        "\n",
        "    return results\n",
        "\n",
        "def solve_math_problems(input_cases):\n",
        "    test_cases = input_cases.split(\"\\n\")\n",
        "    results = test_model(model, tokenizer, test_cases)\n",
        "\n",
        "    output = \"\"\n",
        "    for incorrect, corrected in results:\n",
        "        output += f\"Incorrect: {incorrect}\\nCorrected: {corrected}\\n\\n\"\n",
        "\n",
        "    return output\n",
        "\n",
        "iface = gr.Interface(\n",
        "    fn=solve_math_problems, \n",
        "    inputs=gr.Textbox(\n",
        "        lines=10,\n",
        "        placeholder=\"Enter problems here, each on a new line (e.g., 2 + 2 = 5)\",\n",
        "    ),\n",
        "    outputs=\"text\",  \n",
        "    live=True,  \n",
        "    title=\"Math Expression Corrector\", \n",
        "    description=\"Enter math problems with incorrect expressions, and get the corrected expressions from the trained model.\"  # Description\n",
        ")\n",
        "\n",
        "iface.launch()\n"
      ]
    },
    {
      "cell_type": "code",
      "execution_count": null,
      "metadata": {
        "id": "U1YLL5vhe06M"
      },
      "outputs": [],
      "source": []
    }
  ],
  "metadata": {
    "accelerator": "GPU",
    "colab": {
      "gpuType": "T4",
      "provenance": []
    },
    "kernelspec": {
      "display_name": "Python 3",
      "name": "python3"
    },
    "language_info": {
      "name": "python"
    },
    "widgets": {
      "application/vnd.jupyter.widget-state+json": {
        "010a5c0d3959409d8fa25b79b2719bf0": {
          "model_module": "@jupyter-widgets/controls",
          "model_module_version": "1.5.0",
          "model_name": "DescriptionStyleModel",
          "state": {
            "_model_module": "@jupyter-widgets/controls",
            "_model_module_version": "1.5.0",
            "_model_name": "DescriptionStyleModel",
            "_view_count": null,
            "_view_module": "@jupyter-widgets/base",
            "_view_module_version": "1.2.0",
            "_view_name": "StyleView",
            "description_width": ""
          }
        },
        "4ba0e4d003e84366b4e25acdbe8b3c6f": {
          "model_module": "@jupyter-widgets/base",
          "model_module_version": "1.2.0",
          "model_name": "LayoutModel",
          "state": {
            "_model_module": "@jupyter-widgets/base",
            "_model_module_version": "1.2.0",
            "_model_name": "LayoutModel",
            "_view_count": null,
            "_view_module": "@jupyter-widgets/base",
            "_view_module_version": "1.2.0",
            "_view_name": "LayoutView",
            "align_content": null,
            "align_items": null,
            "align_self": null,
            "border": null,
            "bottom": null,
            "display": null,
            "flex": null,
            "flex_flow": null,
            "grid_area": null,
            "grid_auto_columns": null,
            "grid_auto_flow": null,
            "grid_auto_rows": null,
            "grid_column": null,
            "grid_gap": null,
            "grid_row": null,
            "grid_template_areas": null,
            "grid_template_columns": null,
            "grid_template_rows": null,
            "height": null,
            "justify_content": null,
            "justify_items": null,
            "left": null,
            "margin": null,
            "max_height": null,
            "max_width": null,
            "min_height": null,
            "min_width": null,
            "object_fit": null,
            "object_position": null,
            "order": null,
            "overflow": null,
            "overflow_x": null,
            "overflow_y": null,
            "padding": null,
            "right": null,
            "top": null,
            "visibility": null,
            "width": null
          }
        },
        "4dec033bd25e4bb7bb2e81f525080d78": {
          "model_module": "@jupyter-widgets/base",
          "model_module_version": "1.2.0",
          "model_name": "LayoutModel",
          "state": {
            "_model_module": "@jupyter-widgets/base",
            "_model_module_version": "1.2.0",
            "_model_name": "LayoutModel",
            "_view_count": null,
            "_view_module": "@jupyter-widgets/base",
            "_view_module_version": "1.2.0",
            "_view_name": "LayoutView",
            "align_content": null,
            "align_items": null,
            "align_self": null,
            "border": null,
            "bottom": null,
            "display": null,
            "flex": null,
            "flex_flow": null,
            "grid_area": null,
            "grid_auto_columns": null,
            "grid_auto_flow": null,
            "grid_auto_rows": null,
            "grid_column": null,
            "grid_gap": null,
            "grid_row": null,
            "grid_template_areas": null,
            "grid_template_columns": null,
            "grid_template_rows": null,
            "height": null,
            "justify_content": null,
            "justify_items": null,
            "left": null,
            "margin": null,
            "max_height": null,
            "max_width": null,
            "min_height": null,
            "min_width": null,
            "object_fit": null,
            "object_position": null,
            "order": null,
            "overflow": null,
            "overflow_x": null,
            "overflow_y": null,
            "padding": null,
            "right": null,
            "top": null,
            "visibility": null,
            "width": null
          }
        },
        "53df22a8520f4578aea9b43313800b3b": {
          "model_module": "@jupyter-widgets/controls",
          "model_module_version": "1.5.0",
          "model_name": "FloatProgressModel",
          "state": {
            "_dom_classes": [],
            "_model_module": "@jupyter-widgets/controls",
            "_model_module_version": "1.5.0",
            "_model_name": "FloatProgressModel",
            "_view_count": null,
            "_view_module": "@jupyter-widgets/controls",
            "_view_module_version": "1.5.0",
            "_view_name": "ProgressView",
            "bar_style": "success",
            "description": "",
            "description_tooltip": null,
            "layout": "IPY_MODEL_746c657a0f4342bb9e4acb8fedb15b7c",
            "max": 2,
            "min": 0,
            "orientation": "horizontal",
            "style": "IPY_MODEL_a8755cd2f4014c4db7da94ee417abf84",
            "value": 2
          }
        },
        "6f302b65453e4e849dc97f712c7d8f60": {
          "model_module": "@jupyter-widgets/controls",
          "model_module_version": "1.5.0",
          "model_name": "HBoxModel",
          "state": {
            "_dom_classes": [],
            "_model_module": "@jupyter-widgets/controls",
            "_model_module_version": "1.5.0",
            "_model_name": "HBoxModel",
            "_view_count": null,
            "_view_module": "@jupyter-widgets/controls",
            "_view_module_version": "1.5.0",
            "_view_name": "HBoxView",
            "box_style": "",
            "children": [
              "IPY_MODEL_ac888b3e15724b7da547fbf5173efd3d",
              "IPY_MODEL_53df22a8520f4578aea9b43313800b3b",
              "IPY_MODEL_e8961db18acd4fcf80ca854fefd9b76a"
            ],
            "layout": "IPY_MODEL_4ba0e4d003e84366b4e25acdbe8b3c6f"
          }
        },
        "746c657a0f4342bb9e4acb8fedb15b7c": {
          "model_module": "@jupyter-widgets/base",
          "model_module_version": "1.2.0",
          "model_name": "LayoutModel",
          "state": {
            "_model_module": "@jupyter-widgets/base",
            "_model_module_version": "1.2.0",
            "_model_name": "LayoutModel",
            "_view_count": null,
            "_view_module": "@jupyter-widgets/base",
            "_view_module_version": "1.2.0",
            "_view_name": "LayoutView",
            "align_content": null,
            "align_items": null,
            "align_self": null,
            "border": null,
            "bottom": null,
            "display": null,
            "flex": null,
            "flex_flow": null,
            "grid_area": null,
            "grid_auto_columns": null,
            "grid_auto_flow": null,
            "grid_auto_rows": null,
            "grid_column": null,
            "grid_gap": null,
            "grid_row": null,
            "grid_template_areas": null,
            "grid_template_columns": null,
            "grid_template_rows": null,
            "height": null,
            "justify_content": null,
            "justify_items": null,
            "left": null,
            "margin": null,
            "max_height": null,
            "max_width": null,
            "min_height": null,
            "min_width": null,
            "object_fit": null,
            "object_position": null,
            "order": null,
            "overflow": null,
            "overflow_x": null,
            "overflow_y": null,
            "padding": null,
            "right": null,
            "top": null,
            "visibility": null,
            "width": null
          }
        },
        "82005d54b50b46439a53e3dac4fe6344": {
          "model_module": "@jupyter-widgets/base",
          "model_module_version": "1.2.0",
          "model_name": "LayoutModel",
          "state": {
            "_model_module": "@jupyter-widgets/base",
            "_model_module_version": "1.2.0",
            "_model_name": "LayoutModel",
            "_view_count": null,
            "_view_module": "@jupyter-widgets/base",
            "_view_module_version": "1.2.0",
            "_view_name": "LayoutView",
            "align_content": null,
            "align_items": null,
            "align_self": null,
            "border": null,
            "bottom": null,
            "display": null,
            "flex": null,
            "flex_flow": null,
            "grid_area": null,
            "grid_auto_columns": null,
            "grid_auto_flow": null,
            "grid_auto_rows": null,
            "grid_column": null,
            "grid_gap": null,
            "grid_row": null,
            "grid_template_areas": null,
            "grid_template_columns": null,
            "grid_template_rows": null,
            "height": null,
            "justify_content": null,
            "justify_items": null,
            "left": null,
            "margin": null,
            "max_height": null,
            "max_width": null,
            "min_height": null,
            "min_width": null,
            "object_fit": null,
            "object_position": null,
            "order": null,
            "overflow": null,
            "overflow_x": null,
            "overflow_y": null,
            "padding": null,
            "right": null,
            "top": null,
            "visibility": null,
            "width": null
          }
        },
        "a8755cd2f4014c4db7da94ee417abf84": {
          "model_module": "@jupyter-widgets/controls",
          "model_module_version": "1.5.0",
          "model_name": "ProgressStyleModel",
          "state": {
            "_model_module": "@jupyter-widgets/controls",
            "_model_module_version": "1.5.0",
            "_model_name": "ProgressStyleModel",
            "_view_count": null,
            "_view_module": "@jupyter-widgets/base",
            "_view_module_version": "1.2.0",
            "_view_name": "StyleView",
            "bar_color": null,
            "description_width": ""
          }
        },
        "aa1b27d08e1248e3b1b6c7a464b4abef": {
          "model_module": "@jupyter-widgets/controls",
          "model_module_version": "1.5.0",
          "model_name": "DescriptionStyleModel",
          "state": {
            "_model_module": "@jupyter-widgets/controls",
            "_model_module_version": "1.5.0",
            "_model_name": "DescriptionStyleModel",
            "_view_count": null,
            "_view_module": "@jupyter-widgets/base",
            "_view_module_version": "1.2.0",
            "_view_name": "StyleView",
            "description_width": ""
          }
        },
        "ac888b3e15724b7da547fbf5173efd3d": {
          "model_module": "@jupyter-widgets/controls",
          "model_module_version": "1.5.0",
          "model_name": "HTMLModel",
          "state": {
            "_dom_classes": [],
            "_model_module": "@jupyter-widgets/controls",
            "_model_module_version": "1.5.0",
            "_model_name": "HTMLModel",
            "_view_count": null,
            "_view_module": "@jupyter-widgets/controls",
            "_view_module_version": "1.5.0",
            "_view_name": "HTMLView",
            "description": "",
            "description_tooltip": null,
            "layout": "IPY_MODEL_82005d54b50b46439a53e3dac4fe6344",
            "placeholder": "​",
            "style": "IPY_MODEL_aa1b27d08e1248e3b1b6c7a464b4abef",
            "value": "Loading checkpoint shards: 100%"
          }
        },
        "e8961db18acd4fcf80ca854fefd9b76a": {
          "model_module": "@jupyter-widgets/controls",
          "model_module_version": "1.5.0",
          "model_name": "HTMLModel",
          "state": {
            "_dom_classes": [],
            "_model_module": "@jupyter-widgets/controls",
            "_model_module_version": "1.5.0",
            "_model_name": "HTMLModel",
            "_view_count": null,
            "_view_module": "@jupyter-widgets/controls",
            "_view_module_version": "1.5.0",
            "_view_name": "HTMLView",
            "description": "",
            "description_tooltip": null,
            "layout": "IPY_MODEL_4dec033bd25e4bb7bb2e81f525080d78",
            "placeholder": "​",
            "style": "IPY_MODEL_010a5c0d3959409d8fa25b79b2719bf0",
            "value": " 2/2 [01:15&lt;00:00, 34.58s/it]"
          }
        }
      }
    }
  },
  "nbformat": 4,
  "nbformat_minor": 0
}
